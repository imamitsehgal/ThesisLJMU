{
 "cells": [
  {
   "cell_type": "code",
   "execution_count": 5,
   "metadata": {},
   "outputs": [],
   "source": [
    "import nsepy\n",
    "from nsepy import get_history as gh\n",
    "import datetime as dt\n",
    "from matplotlib import pyplot as plt\n",
    "from sklearn import model_selection\n",
    "from sklearn.metrics import confusion_matrix\n",
    "from sklearn.preprocessing import StandardScaler\n",
    "from sklearn.model_selection import train_test_split\n",
    "import numpy as np\n",
    "import pandas as pd\n",
    "import tensorflow as tf\n",
    "from sklearn.preprocessing import MinMaxScaler\n",
    "from tensorflow.keras.models import Sequential\n",
    "from tensorflow.keras.layers import Dense\n",
    "from tensorflow.keras.layers import LSTM\n",
    "from tensorflow.keras.layers import Dropout"
   ]
  },
  {
   "cell_type": "code",
   "execution_count": 6,
   "metadata": {},
   "outputs": [],
   "source": [
    "#!pip install nsepy\n",
    "#!pip install sklearn\n",
    "#!pip install tensorflow"
   ]
  },
  {
   "cell_type": "code",
   "execution_count": 7,
   "metadata": {},
   "outputs": [
    {
     "ename": "SyntaxError",
     "evalue": "invalid syntax (<ipython-input-7-c5f41a2f601c>, line 7)",
     "output_type": "error",
     "traceback": [
      "\u001b[1;36m  File \u001b[1;32m\"<ipython-input-7-c5f41a2f601c>\"\u001b[1;36m, line \u001b[1;32m7\u001b[0m\n\u001b[1;33m    stk_data.to_csv('./a' +'.csv',index=False)a\u001b[0m\n\u001b[1;37m                                              ^\u001b[0m\n\u001b[1;31mSyntaxError\u001b[0m\u001b[1;31m:\u001b[0m invalid syntax\n"
     ]
    }
   ],
   "source": [
    "start = dt.datetime(2019,1,1)\n",
    "end = dt.datetime(2021,7,30)\n",
    "nsepy.urls.index_history_url.url\n",
    "stk_data = gh(symbol='NIFTY REALTY',start=start,end=end, index=True)\n",
    "stk_data.reset_index(inplace=True)\n",
    "stk_data.head()\n",
    "stk_data.to_csv('./a' +'.csv',index=False)a"
   ]
  },
  {
   "cell_type": "code",
   "execution_count": null,
   "metadata": {},
   "outputs": [],
   "source": [
    "plt.rcParams['figure.dpi'] = 300\n",
    "plt.rcParams['savefig.dpi'] = 300"
   ]
  },
  {
   "cell_type": "code",
   "execution_count": 2,
   "metadata": {},
   "outputs": [
    {
     "ename": "NameError",
     "evalue": "name 'plt' is not defined",
     "output_type": "error",
     "traceback": [
      "\u001b[1;31m---------------------------------------------------------------------------\u001b[0m",
      "\u001b[1;31mNameError\u001b[0m                                 Traceback (most recent call last)",
      "\u001b[1;32m<ipython-input-2-2bcf782fb692>\u001b[0m in \u001b[0;36m<module>\u001b[1;34m\u001b[0m\n\u001b[1;32m----> 1\u001b[1;33m \u001b[0mplt\u001b[0m\u001b[1;33m.\u001b[0m\u001b[0mfigure\u001b[0m\u001b[1;33m(\u001b[0m\u001b[0mfigsize\u001b[0m\u001b[1;33m=\u001b[0m\u001b[1;33m(\u001b[0m\u001b[1;36m14\u001b[0m\u001b[1;33m,\u001b[0m\u001b[1;36m14\u001b[0m\u001b[1;33m)\u001b[0m\u001b[1;33m)\u001b[0m\u001b[1;33m\u001b[0m\u001b[1;33m\u001b[0m\u001b[0m\n\u001b[0m\u001b[0;32m      2\u001b[0m \u001b[0mplt\u001b[0m\u001b[1;33m.\u001b[0m\u001b[0mscatter\u001b[0m\u001b[1;33m(\u001b[0m\u001b[0mstk_data\u001b[0m\u001b[1;33m[\u001b[0m\u001b[1;34m'Date'\u001b[0m\u001b[1;33m]\u001b[0m\u001b[1;33m,\u001b[0m\u001b[0mstk_data\u001b[0m\u001b[1;33m[\u001b[0m\u001b[1;34m'Close'\u001b[0m\u001b[1;33m]\u001b[0m\u001b[1;33m)\u001b[0m\u001b[1;33m\u001b[0m\u001b[1;33m\u001b[0m\u001b[0m\n\u001b[0;32m      3\u001b[0m \u001b[0mplt\u001b[0m\u001b[1;33m.\u001b[0m\u001b[0mtitle\u001b[0m\u001b[1;33m(\u001b[0m\u001b[1;34m'Historical Stock Value'\u001b[0m\u001b[1;33m)\u001b[0m\u001b[1;33m\u001b[0m\u001b[1;33m\u001b[0m\u001b[0m\n\u001b[0;32m      4\u001b[0m \u001b[0mplt\u001b[0m\u001b[1;33m.\u001b[0m\u001b[0mxlabel\u001b[0m\u001b[1;33m(\u001b[0m\u001b[1;34m'Date'\u001b[0m\u001b[1;33m)\u001b[0m\u001b[1;33m\u001b[0m\u001b[1;33m\u001b[0m\u001b[0m\n\u001b[0;32m      5\u001b[0m \u001b[0mplt\u001b[0m\u001b[1;33m.\u001b[0m\u001b[0mylabel\u001b[0m\u001b[1;33m(\u001b[0m\u001b[1;34m'Stock Price'\u001b[0m\u001b[1;33m)\u001b[0m\u001b[1;33m\u001b[0m\u001b[1;33m\u001b[0m\u001b[0m\n",
      "\u001b[1;31mNameError\u001b[0m: name 'plt' is not defined"
     ]
    }
   ],
   "source": [
    "plt.figure(figsize=(14,14))\n",
    "plt.scatter(stk_data['Date'],stk_data['Close'])\n",
    "plt.title('Historical Stock Value')\n",
    "plt.xlabel('Date')\n",
    "plt.ylabel('Stock Price')\n",
    "plt.show()"
   ]
  },
  {
   "cell_type": "code",
   "execution_count": 5,
   "metadata": {},
   "outputs": [
    {
     "name": "stdout",
     "output_type": "stream",
     "text": [
      "(619, 1)\n"
     ]
    }
   ],
   "source": [
    "#Data Preprocessing\n",
    "stk_data['Date'] = stk_data.index\n",
    "data2 = pd.DataFrame(columns = ['Date', 'Open', 'High', 'Low', 'Close'])\n",
    "data2['Date'] = stk_data['Date']\n",
    "data2['Open'] = stk_data['Open']\n",
    "data2['High'] = stk_data['High']\n",
    "data2['Low'] = stk_data['Low']\n",
    "data2['Close'] = stk_data['Close']\n",
    "## Take only open price in a array\n",
    "train_set = data2.iloc[:, 1:2].values\n",
    "print(train_set.shape)"
   ]
  },
  {
   "cell_type": "code",
   "execution_count": 6,
   "metadata": {},
   "outputs": [
    {
     "data": {
      "text/plain": [
       "(619, 1)"
      ]
     },
     "execution_count": 6,
     "metadata": {},
     "output_type": "execute_result"
    }
   ],
   "source": [
    "\n",
    "sc = MinMaxScaler(feature_range = (0, 1))\n",
    "training_set_scaled = sc.fit_transform(train_set)\n",
    "\n",
    "training_set_scaled.shape"
   ]
  },
  {
   "cell_type": "code",
   "execution_count": 9,
   "metadata": {},
   "outputs": [
    {
     "data": {
      "text/plain": [
       "(60,)"
      ]
     },
     "execution_count": 9,
     "metadata": {},
     "output_type": "execute_result"
    }
   ],
   "source": [
    "X_train = []\n",
    "y_train = []\n",
    "type(X_train)\n",
    "training_set_scaled[60-60:60, 0].shape"
   ]
  },
  {
   "cell_type": "code",
   "execution_count": 10,
   "metadata": {},
   "outputs": [
    {
     "data": {
      "text/plain": [
       "15"
      ]
     },
     "execution_count": 10,
     "metadata": {},
     "output_type": "execute_result"
    }
   ],
   "source": [
    "X_train = []\n",
    "y_train = []\n",
    "type(X_train)\n",
    "for i in range(15, 619):\n",
    "    X_train.append(training_set_scaled[i-15:i, 0])\n",
    "    y_train.append(training_set_scaled[i, 0]) \n",
    "X_train, y_train = np.array(X_train), np.array(y_train)\n",
    "#np.expand_dims(X_train,)\n",
    "X_train.shape\n",
    "X_train = np.reshape(X_train, (X_train.shape[0], X_train.shape[1], 1))\n",
    "    \n",
    "\n",
    "X_train.shape[1]"
   ]
  },
  {
   "cell_type": "code",
   "execution_count": null,
   "metadata": {},
   "outputs": [],
   "source": []
  },
  {
   "cell_type": "code",
   "execution_count": 11,
   "metadata": {},
   "outputs": [
    {
     "name": "stderr",
     "output_type": "stream",
     "text": [
      "2021-07-11 23:15:25.383570: W tensorflow/stream_executor/platform/default/dso_loader.cc:64] Could not load dynamic library 'libcuda.so.1'; dlerror: libcuda.so.1: cannot open shared object file: No such file or directory\n",
      "2021-07-11 23:15:25.383601: W tensorflow/stream_executor/cuda/cuda_driver.cc:326] failed call to cuInit: UNKNOWN ERROR (303)\n",
      "2021-07-11 23:15:25.383624: I tensorflow/stream_executor/cuda/cuda_diagnostics.cc:156] kernel driver does not appear to be running on this host (rocksolid): /proc/driver/nvidia/version does not exist\n",
      "2021-07-11 23:15:25.383841: I tensorflow/core/platform/cpu_feature_guard.cc:142] This TensorFlow binary is optimized with oneAPI Deep Neural Network Library (oneDNN) to use the following CPU instructions in performance-critical operations:  AVX2 FMA\n",
      "To enable them in other operations, rebuild TensorFlow with the appropriate compiler flags.\n"
     ]
    }
   ],
   "source": [
    "regressor = Sequential()\n",
    "regressor.add(LSTM(units = 50, return_sequences = True, input_shape = (X_train.shape[1], 1)))\n",
    "regressor.add(Dropout(0.2))\n",
    "regressor.add(LSTM(units = 50, return_sequences = True))\n",
    "regressor.add(Dropout(0.2))\n",
    "regressor.add(LSTM(units = 50, return_sequences = True))\n",
    "regressor.add(Dropout(0.2))\n",
    "regressor.add(LSTM(units = 50))\n",
    "regressor.add(Dropout(0.2))\n",
    "regressor.add(Dense(units = 1))"
   ]
  },
  {
   "cell_type": "code",
   "execution_count": null,
   "metadata": {},
   "outputs": [],
   "source": []
  },
  {
   "cell_type": "code",
   "execution_count": 12,
   "metadata": {},
   "outputs": [
    {
     "name": "stderr",
     "output_type": "stream",
     "text": [
      "2021-07-11 23:15:40.277594: I tensorflow/compiler/mlir/mlir_graph_optimization_pass.cc:176] None of the MLIR Optimization Passes are enabled (registered 2)\n",
      "2021-07-11 23:15:40.300064: I tensorflow/core/platform/profile_utils/cpu_utils.cc:114] CPU Frequency: 1899950000 Hz\n"
     ]
    },
    {
     "name": "stdout",
     "output_type": "stream",
     "text": [
      "Epoch 1/100\n",
      "19/19 [==============================] - 4s 18ms/step - loss: 0.0911\n",
      "Epoch 2/100\n",
      "19/19 [==============================] - 0s 20ms/step - loss: 0.0181\n",
      "Epoch 3/100\n",
      "19/19 [==============================] - 0s 20ms/step - loss: 0.0120\n",
      "Epoch 4/100\n",
      "19/19 [==============================] - 0s 19ms/step - loss: 0.0111\n",
      "Epoch 5/100\n",
      "19/19 [==============================] - 0s 20ms/step - loss: 0.0108\n",
      "Epoch 6/100\n",
      "19/19 [==============================] - 0s 20ms/step - loss: 0.0092\n",
      "Epoch 7/100\n",
      "19/19 [==============================] - 0s 20ms/step - loss: 0.0105\n",
      "Epoch 8/100\n",
      "19/19 [==============================] - 0s 20ms/step - loss: 0.0107\n",
      "Epoch 9/100\n",
      "19/19 [==============================] - 0s 20ms/step - loss: 0.0104\n",
      "Epoch 10/100\n",
      "19/19 [==============================] - 0s 20ms/step - loss: 0.0099\n",
      "Epoch 11/100\n",
      "19/19 [==============================] - 0s 21ms/step - loss: 0.0095\n",
      "Epoch 12/100\n",
      "19/19 [==============================] - 0s 20ms/step - loss: 0.0102\n",
      "Epoch 13/100\n",
      "19/19 [==============================] - 0s 20ms/step - loss: 0.0093\n",
      "Epoch 14/100\n",
      "19/19 [==============================] - 0s 18ms/step - loss: 0.0081\n",
      "Epoch 15/100\n",
      "19/19 [==============================] - 0s 17ms/step - loss: 0.0082\n",
      "Epoch 16/100\n",
      "19/19 [==============================] - 0s 21ms/step - loss: 0.0080\n",
      "Epoch 17/100\n",
      "19/19 [==============================] - 0s 20ms/step - loss: 0.0090\n",
      "Epoch 18/100\n",
      "19/19 [==============================] - 0s 20ms/step - loss: 0.0079\n",
      "Epoch 19/100\n",
      "19/19 [==============================] - 0s 18ms/step - loss: 0.0078\n",
      "Epoch 20/100\n",
      "19/19 [==============================] - 0s 18ms/step - loss: 0.0076\n",
      "Epoch 21/100\n",
      "19/19 [==============================] - 0s 18ms/step - loss: 0.0080\n",
      "Epoch 22/100\n",
      "19/19 [==============================] - 0s 17ms/step - loss: 0.0074\n",
      "Epoch 23/100\n",
      "19/19 [==============================] - 0s 19ms/step - loss: 0.0066\n",
      "Epoch 24/100\n",
      "19/19 [==============================] - 0s 23ms/step - loss: 0.0071\n",
      "Epoch 25/100\n",
      "19/19 [==============================] - 0s 22ms/step - loss: 0.0083\n",
      "Epoch 26/100\n",
      "19/19 [==============================] - 1s 27ms/step - loss: 0.0069\n",
      "Epoch 27/100\n",
      "19/19 [==============================] - 0s 25ms/step - loss: 0.0072\n",
      "Epoch 28/100\n",
      "19/19 [==============================] - 0s 22ms/step - loss: 0.0073\n",
      "Epoch 29/100\n",
      "19/19 [==============================] - 0s 22ms/step - loss: 0.0068\n",
      "Epoch 30/100\n",
      "19/19 [==============================] - 0s 23ms/step - loss: 0.0064\n",
      "Epoch 31/100\n",
      "19/19 [==============================] - 0s 23ms/step - loss: 0.0060\n",
      "Epoch 32/100\n",
      "19/19 [==============================] - 0s 26ms/step - loss: 0.0065\n",
      "Epoch 33/100\n",
      "19/19 [==============================] - 1s 29ms/step - loss: 0.0064\n",
      "Epoch 34/100\n",
      "19/19 [==============================] - 0s 24ms/step - loss: 0.0062\n",
      "Epoch 35/100\n",
      "19/19 [==============================] - 0s 23ms/step - loss: 0.0060\n",
      "Epoch 36/100\n",
      "19/19 [==============================] - 0s 23ms/step - loss: 0.0073\n",
      "Epoch 37/100\n",
      "19/19 [==============================] - 1s 27ms/step - loss: 0.0055\n",
      "Epoch 38/100\n",
      "19/19 [==============================] - 1s 27ms/step - loss: 0.0062\n",
      "Epoch 39/100\n",
      "19/19 [==============================] - 1s 27ms/step - loss: 0.0062\n",
      "Epoch 40/100\n",
      "19/19 [==============================] - 0s 24ms/step - loss: 0.0059\n",
      "Epoch 41/100\n",
      "19/19 [==============================] - 1s 27ms/step - loss: 0.0052\n",
      "Epoch 42/100\n",
      "19/19 [==============================] - 1s 27ms/step - loss: 0.0049\n",
      "Epoch 43/100\n",
      "19/19 [==============================] - 0s 24ms/step - loss: 0.0054\n",
      "Epoch 44/100\n",
      "19/19 [==============================] - 0s 24ms/step - loss: 0.0053\n",
      "Epoch 45/100\n",
      "19/19 [==============================] - 0s 24ms/step - loss: 0.0058\n",
      "Epoch 46/100\n",
      "19/19 [==============================] - 0s 24ms/step - loss: 0.0054\n",
      "Epoch 47/100\n",
      "19/19 [==============================] - 0s 24ms/step - loss: 0.0054\n",
      "Epoch 48/100\n",
      "19/19 [==============================] - 0s 24ms/step - loss: 0.0052\n",
      "Epoch 49/100\n",
      "19/19 [==============================] - 0s 24ms/step - loss: 0.0050\n",
      "Epoch 50/100\n",
      "19/19 [==============================] - 0s 24ms/step - loss: 0.0048\n",
      "Epoch 51/100\n",
      "19/19 [==============================] - 0s 24ms/step - loss: 0.0044\n",
      "Epoch 52/100\n",
      "19/19 [==============================] - 0s 24ms/step - loss: 0.0044\n",
      "Epoch 53/100\n",
      "19/19 [==============================] - 0s 24ms/step - loss: 0.0047\n",
      "Epoch 54/100\n",
      "19/19 [==============================] - 0s 24ms/step - loss: 0.0047\n",
      "Epoch 55/100\n",
      "19/19 [==============================] - 0s 24ms/step - loss: 0.0047\n",
      "Epoch 56/100\n",
      "19/19 [==============================] - 0s 24ms/step - loss: 0.0043\n",
      "Epoch 57/100\n",
      "19/19 [==============================] - 0s 23ms/step - loss: 0.0046\n",
      "Epoch 58/100\n",
      "19/19 [==============================] - 0s 24ms/step - loss: 0.0042\n",
      "Epoch 59/100\n",
      "19/19 [==============================] - 0s 25ms/step - loss: 0.0048\n",
      "Epoch 60/100\n",
      "19/19 [==============================] - 0s 23ms/step - loss: 0.0043\n",
      "Epoch 61/100\n",
      "19/19 [==============================] - 0s 21ms/step - loss: 0.0045\n",
      "Epoch 62/100\n",
      "19/19 [==============================] - 0s 21ms/step - loss: 0.0042\n",
      "Epoch 63/100\n",
      "19/19 [==============================] - 0s 21ms/step - loss: 0.0040\n",
      "Epoch 64/100\n",
      "19/19 [==============================] - 0s 22ms/step - loss: 0.0037\n",
      "Epoch 65/100\n",
      "19/19 [==============================] - 0s 21ms/step - loss: 0.0039\n",
      "Epoch 66/100\n",
      "19/19 [==============================] - 0s 21ms/step - loss: 0.0039\n",
      "Epoch 67/100\n",
      "19/19 [==============================] - 0s 21ms/step - loss: 0.0037\n",
      "Epoch 68/100\n",
      "19/19 [==============================] - 0s 21ms/step - loss: 0.0038\n",
      "Epoch 69/100\n",
      "19/19 [==============================] - 0s 21ms/step - loss: 0.0041\n",
      "Epoch 70/100\n",
      "19/19 [==============================] - 0s 21ms/step - loss: 0.0037\n",
      "Epoch 71/100\n",
      "19/19 [==============================] - 0s 21ms/step - loss: 0.0040\n",
      "Epoch 72/100\n",
      "19/19 [==============================] - 0s 21ms/step - loss: 0.0044\n",
      "Epoch 73/100\n",
      "19/19 [==============================] - 0s 21ms/step - loss: 0.0041\n",
      "Epoch 74/100\n",
      "19/19 [==============================] - 0s 21ms/step - loss: 0.0039\n",
      "Epoch 75/100\n",
      "19/19 [==============================] - 0s 21ms/step - loss: 0.0036\n",
      "Epoch 76/100\n",
      "19/19 [==============================] - 0s 21ms/step - loss: 0.0036\n",
      "Epoch 77/100\n",
      "19/19 [==============================] - 0s 21ms/step - loss: 0.0038\n",
      "Epoch 78/100\n",
      "19/19 [==============================] - 0s 24ms/step - loss: 0.0037\n",
      "Epoch 79/100\n",
      "19/19 [==============================] - 0s 24ms/step - loss: 0.0039\n",
      "Epoch 80/100\n",
      "19/19 [==============================] - 0s 25ms/step - loss: 0.0035\n",
      "Epoch 81/100\n",
      "19/19 [==============================] - 0s 25ms/step - loss: 0.0031\n",
      "Epoch 82/100\n",
      "19/19 [==============================] - 0s 25ms/step - loss: 0.0036\n",
      "Epoch 83/100\n",
      "19/19 [==============================] - 0s 25ms/step - loss: 0.0037\n",
      "Epoch 84/100\n",
      "19/19 [==============================] - 0s 24ms/step - loss: 0.0034\n",
      "Epoch 85/100\n",
      "19/19 [==============================] - 0s 26ms/step - loss: 0.0038\n",
      "Epoch 86/100\n",
      "19/19 [==============================] - 0s 23ms/step - loss: 0.0034\n",
      "Epoch 87/100\n",
      "19/19 [==============================] - 0s 26ms/step - loss: 0.0035\n",
      "Epoch 88/100\n",
      "19/19 [==============================] - 1s 26ms/step - loss: 0.0035\n",
      "Epoch 89/100\n",
      "19/19 [==============================] - 0s 25ms/step - loss: 0.0036\n",
      "Epoch 90/100\n",
      "19/19 [==============================] - 0s 26ms/step - loss: 0.0034\n",
      "Epoch 91/100\n",
      "19/19 [==============================] - 0s 23ms/step - loss: 0.0031\n",
      "Epoch 92/100\n",
      "19/19 [==============================] - 0s 22ms/step - loss: 0.0028\n",
      "Epoch 93/100\n",
      "19/19 [==============================] - 0s 24ms/step - loss: 0.0034\n",
      "Epoch 94/100\n",
      "19/19 [==============================] - 0s 26ms/step - loss: 0.0034\n",
      "Epoch 95/100\n",
      "19/19 [==============================] - 1s 28ms/step - loss: 0.0037\n",
      "Epoch 96/100\n",
      "19/19 [==============================] - 0s 22ms/step - loss: 0.0032\n",
      "Epoch 97/100\n",
      "19/19 [==============================] - 0s 22ms/step - loss: 0.0031\n",
      "Epoch 98/100\n",
      "19/19 [==============================] - 0s 23ms/step - loss: 0.0034\n",
      "Epoch 99/100\n",
      "19/19 [==============================] - 0s 22ms/step - loss: 0.0028\n",
      "Epoch 100/100\n",
      "19/19 [==============================] - 0s 22ms/step - loss: 0.0030\n"
     ]
    },
    {
     "data": {
      "text/plain": [
       "<tensorflow.python.keras.callbacks.History at 0x7f4f89539f70>"
      ]
     },
     "execution_count": 12,
     "metadata": {},
     "output_type": "execute_result"
    }
   ],
   "source": [
    "#Compiling and fitting the model\n",
    "regressor.compile(optimizer = 'adam', loss = 'mean_squared_error')\n",
    "regressor.fit(X_train, y_train, epochs = 100, batch_size = 32)"
   ]
  },
  {
   "cell_type": "code",
   "execution_count": 10,
   "metadata": {},
   "outputs": [
    {
     "ename": "NameError",
     "evalue": "name 'regressor' is not defined",
     "output_type": "error",
     "traceback": [
      "\u001b[0;31m---------------------------------------------------------------------------\u001b[0m",
      "\u001b[0;31mNameError\u001b[0m                                 Traceback (most recent call last)",
      "\u001b[0;32m/tmp/ipykernel_11190/850340281.py\u001b[0m in \u001b[0;36m<module>\u001b[0;34m\u001b[0m\n\u001b[0;32m----> 1\u001b[0;31m \u001b[0mhist\u001b[0m \u001b[0;34m=\u001b[0m \u001b[0mpd\u001b[0m\u001b[0;34m.\u001b[0m\u001b[0mDataFrame\u001b[0m\u001b[0;34m(\u001b[0m\u001b[0mregressor\u001b[0m\u001b[0;34m.\u001b[0m\u001b[0mhistory\u001b[0m\u001b[0;34m.\u001b[0m\u001b[0mhistory\u001b[0m\u001b[0;34m)\u001b[0m\u001b[0;34m\u001b[0m\u001b[0;34m\u001b[0m\u001b[0m\n\u001b[0m\u001b[1;32m      2\u001b[0m \u001b[0mhist\u001b[0m\u001b[0;34m[\u001b[0m\u001b[0;34m'epoch'\u001b[0m\u001b[0;34m]\u001b[0m \u001b[0;34m=\u001b[0m \u001b[0mregressor\u001b[0m\u001b[0;34m.\u001b[0m\u001b[0mhistory\u001b[0m\u001b[0;34m.\u001b[0m\u001b[0mepoch\u001b[0m\u001b[0;34m\u001b[0m\u001b[0;34m\u001b[0m\u001b[0m\n\u001b[1;32m      3\u001b[0m \u001b[0mhist\u001b[0m\u001b[0;34m.\u001b[0m\u001b[0mhead\u001b[0m\u001b[0;34m(\u001b[0m\u001b[0;34m)\u001b[0m\u001b[0;34m\u001b[0m\u001b[0;34m\u001b[0m\u001b[0m\n",
      "\u001b[0;31mNameError\u001b[0m: name 'regressor' is not defined"
     ]
    }
   ],
   "source": [
    "hist = pd.DataFrame(regressor.history.history)\n",
    "hist['epoch'] = regressor.history.epoch\n",
    "hist.head()"
   ]
  },
  {
   "cell_type": "code",
   "execution_count": 17,
   "metadata": {},
   "outputs": [],
   "source": [
    "def plot_loss(history):\n",
    "  plt.plot(history.history['loss'], label='loss')\n",
    "  plt.plot(history.history['val_loss'], label='val_loss')\n",
    "  plt.ylim([0, 10])\n",
    "  plt.xlabel('Epoch')\n",
    "  plt.ylabel('Error [MPG]')\n",
    "  plt.legend()\n",
    "  plt.grid(True)"
   ]
  },
  {
   "cell_type": "code",
   "execution_count": 19,
   "metadata": {},
   "outputs": [
    {
     "ename": "KeyError",
     "evalue": "'val_loss'",
     "output_type": "error",
     "traceback": [
      "\u001b[0;31m---------------------------------------------------------------------------\u001b[0m",
      "\u001b[0;31mKeyError\u001b[0m                                  Traceback (most recent call last)",
      "\u001b[0;32m/tmp/ipykernel_25834/659884089.py\u001b[0m in \u001b[0;36m<module>\u001b[0;34m\u001b[0m\n\u001b[0;32m----> 1\u001b[0;31m \u001b[0mplot_loss\u001b[0m\u001b[0;34m(\u001b[0m\u001b[0mregressor\u001b[0m\u001b[0;34m.\u001b[0m\u001b[0mhistory\u001b[0m\u001b[0;34m)\u001b[0m\u001b[0;34m\u001b[0m\u001b[0;34m\u001b[0m\u001b[0m\n\u001b[0m",
      "\u001b[0;32m/tmp/ipykernel_25834/1896790217.py\u001b[0m in \u001b[0;36mplot_loss\u001b[0;34m(history)\u001b[0m\n\u001b[1;32m      1\u001b[0m \u001b[0;32mdef\u001b[0m \u001b[0mplot_loss\u001b[0m\u001b[0;34m(\u001b[0m\u001b[0mhistory\u001b[0m\u001b[0;34m)\u001b[0m\u001b[0;34m:\u001b[0m\u001b[0;34m\u001b[0m\u001b[0;34m\u001b[0m\u001b[0m\n\u001b[1;32m      2\u001b[0m   \u001b[0mplt\u001b[0m\u001b[0;34m.\u001b[0m\u001b[0mplot\u001b[0m\u001b[0;34m(\u001b[0m\u001b[0mhistory\u001b[0m\u001b[0;34m.\u001b[0m\u001b[0mhistory\u001b[0m\u001b[0;34m[\u001b[0m\u001b[0;34m'loss'\u001b[0m\u001b[0;34m]\u001b[0m\u001b[0;34m,\u001b[0m \u001b[0mlabel\u001b[0m\u001b[0;34m=\u001b[0m\u001b[0;34m'loss'\u001b[0m\u001b[0;34m)\u001b[0m\u001b[0;34m\u001b[0m\u001b[0;34m\u001b[0m\u001b[0m\n\u001b[0;32m----> 3\u001b[0;31m   \u001b[0mplt\u001b[0m\u001b[0;34m.\u001b[0m\u001b[0mplot\u001b[0m\u001b[0;34m(\u001b[0m\u001b[0mhistory\u001b[0m\u001b[0;34m.\u001b[0m\u001b[0mhistory\u001b[0m\u001b[0;34m[\u001b[0m\u001b[0;34m'val_loss'\u001b[0m\u001b[0;34m]\u001b[0m\u001b[0;34m,\u001b[0m \u001b[0mlabel\u001b[0m\u001b[0;34m=\u001b[0m\u001b[0;34m'val_loss'\u001b[0m\u001b[0;34m)\u001b[0m\u001b[0;34m\u001b[0m\u001b[0;34m\u001b[0m\u001b[0m\n\u001b[0m\u001b[1;32m      4\u001b[0m   \u001b[0mplt\u001b[0m\u001b[0;34m.\u001b[0m\u001b[0mylim\u001b[0m\u001b[0;34m(\u001b[0m\u001b[0;34m[\u001b[0m\u001b[0;36m0\u001b[0m\u001b[0;34m,\u001b[0m \u001b[0;36m10\u001b[0m\u001b[0;34m]\u001b[0m\u001b[0;34m)\u001b[0m\u001b[0;34m\u001b[0m\u001b[0;34m\u001b[0m\u001b[0m\n\u001b[1;32m      5\u001b[0m   \u001b[0mplt\u001b[0m\u001b[0;34m.\u001b[0m\u001b[0mxlabel\u001b[0m\u001b[0;34m(\u001b[0m\u001b[0;34m'Epoch'\u001b[0m\u001b[0;34m)\u001b[0m\u001b[0;34m\u001b[0m\u001b[0;34m\u001b[0m\u001b[0m\n",
      "\u001b[0;31mKeyError\u001b[0m: 'val_loss'"
     ]
    },
    {
     "data": {
      "image/png": "[encoded data removed]",
      "text/plain": [
       "<Figure size 432x288 with 1 Axes>"
      ]
     },
     "metadata": {
      "needs_background": "light"
     },
     "output_type": "display_data"
    }
   ],
   "source": [
    "plot_loss(regressor.history)"
   ]
  },
  {
   "cell_type": "code",
   "execution_count": null,
   "metadata": {},
   "outputs": [],
   "source": [
    "#Fetching the test data and preprocessing\n",
    "testdataframe = gh(symbol='BANKNIFTY',start=dt.datetime(2019,1,1),end=dt.datetime(2019,9,18),index=True)\n",
    "testdataframe['Date'] = testdataframe.index\n",
    "testdata = pd.DataFrame(columns = ['Date', 'Open', 'High', 'Low', 'Close'])\n",
    "testdata['Date'] = testdataframe['Date']\n",
    "testdata['Open'] = testdataframe['Open']\n",
    "testdata['High'] = testdataframe['High']\n",
    "testdata['Low'] = testdataframe['Low']\n",
    "testdata['Close'] = testdataframe['Close']\n",
    "real_stock_price = testdata.iloc[:, 1:2].values\n",
    "dataset_total = pd.concat((data2['Open'], testdata['Open']), axis = 0)\n",
    "inputs = dataset_total[len(dataset_total) - len(testdata) - 60:].values\n",
    "inputs = inputs.reshape(-1,1)\n",
    "inputs = sc.transform(inputs)\n",
    "X_test = []\n",
    "for i in range(60, 235):\n",
    "    X_test.append(inputs[i-60:i, 0])\n",
    "X_test = np.array(X_test)\n",
    "X_test = np.reshape(X_test, (X_test.shape[0], X_test.shape[1], 1))\n",
    "\n",
    "#Making predictions on the test data\n",
    "predicted_stock_price = regressor.predict(X_test)\n",
    "predicted_stock_price = sc.inverse_transform(predicted_stock_price)\n",
    "\n",
    "#Visualizing the prediction\n",
    "plt.figure(figsize=(20,10))\n",
    "plt.plot(real_stock_price, color = 'green', label = 'BankNifty Index Price')\n",
    "plt.plot(predicted_stock_price, color = 'red', label = 'Predicted Bank Nifty Index Price')\n",
    "plt.title('Bank Nifty Index Price Prediction')\n",
    "plt.xlabel('Trading Day')\n",
    "plt.ylabel('Bank Nifty Index Price')\n",
    "plt.legend()\n",
    "plt.show()"
   ]
  },
  {
   "cell_type": "code",
   "execution_count": null,
   "metadata": {},
   "outputs": [],
   "source": []
  }
 ],
 "metadata": {
  "kernelspec": {
   "display_name": "Python 3",
   "language": "python",
   "name": "python3"
  },
  "language_info": {
   "codemirror_mode": {
    "name": "ipython",
    "version": 3
   },
   "file_extension": ".py",
   "mimetype": "text/x-python",
   "name": "python",
   "nbconvert_exporter": "python",
   "pygments_lexer": "ipython3",
   "version": "3.8.2"
  }
 },
 "nbformat": 4,
 "nbformat_minor": 5
}
